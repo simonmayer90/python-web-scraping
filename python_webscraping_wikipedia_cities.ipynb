{
  "nbformat": 4,
  "nbformat_minor": 0,
  "metadata": {
    "colab": {
      "name": "City-Scraping-Wikipedia.ipynb",
      "provenance": [],
      "collapsed_sections": [
        "r2IScrif382W"
      ],
      "toc_visible": true
    },
    "kernelspec": {
      "name": "python3",
      "display_name": "Python 3"
    },
    "language_info": {
      "name": "python"
    }
  },
  "cells": [
    {
      "cell_type": "markdown",
      "source": [
        "# Scrape Cities from Wikipedia"
      ],
      "metadata": {
        "id": "7-6Ef9Io33zw"
      }
    },
    {
      "cell_type": "code",
      "execution_count": 186,
      "metadata": {
        "id": "EqouwmpU4r2r"
      },
      "outputs": [],
      "source": [
        "# import libraries\n",
        "from bs4 import BeautifulSoup\n",
        "import requests\n",
        "import pandas as pd"
      ]
    },
    {
      "cell_type": "markdown",
      "source": [
        "## Automated Scraping"
      ],
      "metadata": {
        "id": "egV1PD-FH6bW"
      }
    },
    {
      "cell_type": "code",
      "source": [
        "# list of cities\n",
        "\n",
        "cities = [\"Berlin\", \"Paris\", \"London\", \"Madrid\", \"Rome\", 'Amsterdam','Barcelona','Lisbon','Prague','Vienna']"
      ],
      "metadata": {
        "id": "0AT7UBtlNgow"
      },
      "execution_count": 187,
      "outputs": []
    },
    {
      "cell_type": "code",
      "source": [
        "# find url and store it in a list\n",
        "url = [] \n",
        "for i in range(len(cities)):\n",
        "  url.append(\"https://en.wikipedia.org/wiki/\" + cities[i])"
      ],
      "metadata": {
        "id": "ibGKtTpmMmmY"
      },
      "execution_count": 188,
      "outputs": []
    },
    {
      "cell_type": "code",
      "source": [
        "# initialize lists\n",
        "\n",
        "name = []\n",
        "country = []\n",
        "latitude = []\n",
        "longitude = []\n",
        "population = []"
      ],
      "metadata": {
        "id": "KqyTcibyMmmY"
      },
      "execution_count": 189,
      "outputs": []
    },
    {
      "cell_type": "code",
      "execution_count": 190,
      "metadata": {
        "id": "STiSNtmXMmmZ"
      },
      "outputs": [],
      "source": [
        "# fill lists\n",
        "\n",
        "for i in range(len(url)):\n",
        "  response = requests.get(url[i])\n",
        "  soup = BeautifulSoup(response.content, \"html.parser\")\n",
        "  name.append(soup.select(\"h1\")[0].get_text())\n",
        "  country.append(soup.select_one(\".infobox-data\").get_text())\n",
        "  latitude.append(soup.select_one(\".latitude\").get_text())\n",
        "  longitude.append(soup.select_one(\".longitude\").get_text())\n",
        "  if soup.find('a', string=['Urban', 'Metropolitan City']) != None:\n",
        "    population.append(soup.find('a', string=['Urban', 'Metropolitan City']).parent.parent.select('td')[0].get_text())\n",
        "  else:\n",
        "    population.append(\"---\")"
      ]
    },
    {
      "cell_type": "code",
      "execution_count": 191,
      "metadata": {
        "jupyter": {
          "outputs_hidden": true
        },
        "colab": {
          "base_uri": "https://localhost:8080/"
        },
        "outputId": "27d97936-4006-423b-8b20-19465f803190",
        "id": "9Kf4-nOuMmmZ"
      },
      "outputs": [
        {
          "output_type": "stream",
          "name": "stdout",
          "text": [
            "['Berlin', 'Paris', 'London', 'Madrid', 'Rome', 'Amsterdam', 'Barcelona', 'Lisbon', 'Prague', 'Vienna']\n",
            "['Germany', 'France', 'United Kingdom', '\\xa0Spain', ' Italy[a]', 'Netherlands', '\\xa0Spain', '\\xa0Portugal', '\\xa0Czech Republic', 'Austria']\n",
            "['52°31′12″N', '48°51′24″N', '51°30′26″N', '40°25′00″N', '41°53′36″N', '52°22′N', '41°23′N', '38°43′31″N', '50°05′15″N', '48°12′N']\n",
            "['13°24′18″E', '2°21′08″E', '0°7′39″W', '03°42′09″W', '12°28′58″E', '4°54′E', '2°11′E', '9°09′00″W', '14°25′17″E', '16°22′E']\n",
            "['4,473,101', '10,858,852', '9,950,000', '6,211,000[2]', '4,342,212[2]', '1,558,755', '4,840,000[3]', '2,719,000[4]', '---', '1,951,354']\n"
          ]
        }
      ],
      "source": [
        "# print results \n",
        "\n",
        "print(name)\n",
        "print(country)\n",
        "print(latitude)\n",
        "print(longitude)\n",
        "print(population)"
      ]
    },
    {
      "cell_type": "markdown",
      "metadata": {
        "id": "IVVe6cFW4r2v"
      },
      "source": [
        "## Storing information in pandas DataFrames"
      ]
    },
    {
      "cell_type": "code",
      "execution_count": 192,
      "metadata": {
        "id": "DDRNFZd74r2v"
      },
      "outputs": [],
      "source": [
        "cities_df = pd.DataFrame(\n",
        "    {\"name\": name,\n",
        "     \"country\": country,\n",
        "     \"longitude\": longitude,\n",
        "     \"latitude\": latitude,\n",
        "     \"population\": population\n",
        "    }\n",
        ")"
      ]
    },
    {
      "cell_type": "code",
      "execution_count": 193,
      "metadata": {
        "colab": {
          "base_uri": "https://localhost:8080/",
          "height": 363
        },
        "id": "EeMxyyvT4r2v",
        "outputId": "c45ec3b4-4322-4cfe-c080-ddced031e4da"
      },
      "outputs": [
        {
          "output_type": "execute_result",
          "data": {
            "text/plain": [
              "        name          country   longitude    latitude    population\n",
              "0     Berlin          Germany  13°24′18″E  52°31′12″N     4,473,101\n",
              "1      Paris           France   2°21′08″E  48°51′24″N    10,858,852\n",
              "2     London   United Kingdom    0°7′39″W  51°30′26″N     9,950,000\n",
              "3     Madrid            Spain  03°42′09″W  40°25′00″N  6,211,000[2]\n",
              "4       Rome         Italy[a]  12°28′58″E  41°53′36″N  4,342,212[2]\n",
              "5  Amsterdam      Netherlands      4°54′E     52°22′N     1,558,755\n",
              "6  Barcelona            Spain      2°11′E     41°23′N  4,840,000[3]\n",
              "7     Lisbon         Portugal   9°09′00″W  38°43′31″N  2,719,000[4]\n",
              "8     Prague   Czech Republic  14°25′17″E  50°05′15″N           ---\n",
              "9     Vienna          Austria     16°22′E     48°12′N     1,951,354"
            ],
            "text/html": [
              "\n",
              "  <div id=\"df-3d616a06-4bd4-4ad8-92cf-326ed810c8dc\">\n",
              "    <div class=\"colab-df-container\">\n",
              "      <div>\n",
              "<style scoped>\n",
              "    .dataframe tbody tr th:only-of-type {\n",
              "        vertical-align: middle;\n",
              "    }\n",
              "\n",
              "    .dataframe tbody tr th {\n",
              "        vertical-align: top;\n",
              "    }\n",
              "\n",
              "    .dataframe thead th {\n",
              "        text-align: right;\n",
              "    }\n",
              "</style>\n",
              "<table border=\"1\" class=\"dataframe\">\n",
              "  <thead>\n",
              "    <tr style=\"text-align: right;\">\n",
              "      <th></th>\n",
              "      <th>name</th>\n",
              "      <th>country</th>\n",
              "      <th>longitude</th>\n",
              "      <th>latitude</th>\n",
              "      <th>population</th>\n",
              "    </tr>\n",
              "  </thead>\n",
              "  <tbody>\n",
              "    <tr>\n",
              "      <th>0</th>\n",
              "      <td>Berlin</td>\n",
              "      <td>Germany</td>\n",
              "      <td>13°24′18″E</td>\n",
              "      <td>52°31′12″N</td>\n",
              "      <td>4,473,101</td>\n",
              "    </tr>\n",
              "    <tr>\n",
              "      <th>1</th>\n",
              "      <td>Paris</td>\n",
              "      <td>France</td>\n",
              "      <td>2°21′08″E</td>\n",
              "      <td>48°51′24″N</td>\n",
              "      <td>10,858,852</td>\n",
              "    </tr>\n",
              "    <tr>\n",
              "      <th>2</th>\n",
              "      <td>London</td>\n",
              "      <td>United Kingdom</td>\n",
              "      <td>0°7′39″W</td>\n",
              "      <td>51°30′26″N</td>\n",
              "      <td>9,950,000</td>\n",
              "    </tr>\n",
              "    <tr>\n",
              "      <th>3</th>\n",
              "      <td>Madrid</td>\n",
              "      <td>Spain</td>\n",
              "      <td>03°42′09″W</td>\n",
              "      <td>40°25′00″N</td>\n",
              "      <td>6,211,000[2]</td>\n",
              "    </tr>\n",
              "    <tr>\n",
              "      <th>4</th>\n",
              "      <td>Rome</td>\n",
              "      <td>Italy[a]</td>\n",
              "      <td>12°28′58″E</td>\n",
              "      <td>41°53′36″N</td>\n",
              "      <td>4,342,212[2]</td>\n",
              "    </tr>\n",
              "    <tr>\n",
              "      <th>5</th>\n",
              "      <td>Amsterdam</td>\n",
              "      <td>Netherlands</td>\n",
              "      <td>4°54′E</td>\n",
              "      <td>52°22′N</td>\n",
              "      <td>1,558,755</td>\n",
              "    </tr>\n",
              "    <tr>\n",
              "      <th>6</th>\n",
              "      <td>Barcelona</td>\n",
              "      <td>Spain</td>\n",
              "      <td>2°11′E</td>\n",
              "      <td>41°23′N</td>\n",
              "      <td>4,840,000[3]</td>\n",
              "    </tr>\n",
              "    <tr>\n",
              "      <th>7</th>\n",
              "      <td>Lisbon</td>\n",
              "      <td>Portugal</td>\n",
              "      <td>9°09′00″W</td>\n",
              "      <td>38°43′31″N</td>\n",
              "      <td>2,719,000[4]</td>\n",
              "    </tr>\n",
              "    <tr>\n",
              "      <th>8</th>\n",
              "      <td>Prague</td>\n",
              "      <td>Czech Republic</td>\n",
              "      <td>14°25′17″E</td>\n",
              "      <td>50°05′15″N</td>\n",
              "      <td>---</td>\n",
              "    </tr>\n",
              "    <tr>\n",
              "      <th>9</th>\n",
              "      <td>Vienna</td>\n",
              "      <td>Austria</td>\n",
              "      <td>16°22′E</td>\n",
              "      <td>48°12′N</td>\n",
              "      <td>1,951,354</td>\n",
              "    </tr>\n",
              "  </tbody>\n",
              "</table>\n",
              "</div>\n",
              "      <button class=\"colab-df-convert\" onclick=\"convertToInteractive('df-3d616a06-4bd4-4ad8-92cf-326ed810c8dc')\"\n",
              "              title=\"Convert this dataframe to an interactive table.\"\n",
              "              style=\"display:none;\">\n",
              "        \n",
              "  <svg xmlns=\"http://www.w3.org/2000/svg\" height=\"24px\"viewBox=\"0 0 24 24\"\n",
              "       width=\"24px\">\n",
              "    <path d=\"M0 0h24v24H0V0z\" fill=\"none\"/>\n",
              "    <path d=\"M18.56 5.44l.94 2.06.94-2.06 2.06-.94-2.06-.94-.94-2.06-.94 2.06-2.06.94zm-11 1L8.5 8.5l.94-2.06 2.06-.94-2.06-.94L8.5 2.5l-.94 2.06-2.06.94zm10 10l.94 2.06.94-2.06 2.06-.94-2.06-.94-.94-2.06-.94 2.06-2.06.94z\"/><path d=\"M17.41 7.96l-1.37-1.37c-.4-.4-.92-.59-1.43-.59-.52 0-1.04.2-1.43.59L10.3 9.45l-7.72 7.72c-.78.78-.78 2.05 0 2.83L4 21.41c.39.39.9.59 1.41.59.51 0 1.02-.2 1.41-.59l7.78-7.78 2.81-2.81c.8-.78.8-2.07 0-2.86zM5.41 20L4 18.59l7.72-7.72 1.47 1.35L5.41 20z\"/>\n",
              "  </svg>\n",
              "      </button>\n",
              "      \n",
              "  <style>\n",
              "    .colab-df-container {\n",
              "      display:flex;\n",
              "      flex-wrap:wrap;\n",
              "      gap: 12px;\n",
              "    }\n",
              "\n",
              "    .colab-df-convert {\n",
              "      background-color: #E8F0FE;\n",
              "      border: none;\n",
              "      border-radius: 50%;\n",
              "      cursor: pointer;\n",
              "      display: none;\n",
              "      fill: #1967D2;\n",
              "      height: 32px;\n",
              "      padding: 0 0 0 0;\n",
              "      width: 32px;\n",
              "    }\n",
              "\n",
              "    .colab-df-convert:hover {\n",
              "      background-color: #E2EBFA;\n",
              "      box-shadow: 0px 1px 2px rgba(60, 64, 67, 0.3), 0px 1px 3px 1px rgba(60, 64, 67, 0.15);\n",
              "      fill: #174EA6;\n",
              "    }\n",
              "\n",
              "    [theme=dark] .colab-df-convert {\n",
              "      background-color: #3B4455;\n",
              "      fill: #D2E3FC;\n",
              "    }\n",
              "\n",
              "    [theme=dark] .colab-df-convert:hover {\n",
              "      background-color: #434B5C;\n",
              "      box-shadow: 0px 1px 3px 1px rgba(0, 0, 0, 0.15);\n",
              "      filter: drop-shadow(0px 1px 2px rgba(0, 0, 0, 0.3));\n",
              "      fill: #FFFFFF;\n",
              "    }\n",
              "  </style>\n",
              "\n",
              "      <script>\n",
              "        const buttonEl =\n",
              "          document.querySelector('#df-3d616a06-4bd4-4ad8-92cf-326ed810c8dc button.colab-df-convert');\n",
              "        buttonEl.style.display =\n",
              "          google.colab.kernel.accessAllowed ? 'block' : 'none';\n",
              "\n",
              "        async function convertToInteractive(key) {\n",
              "          const element = document.querySelector('#df-3d616a06-4bd4-4ad8-92cf-326ed810c8dc');\n",
              "          const dataTable =\n",
              "            await google.colab.kernel.invokeFunction('convertToInteractive',\n",
              "                                                     [key], {});\n",
              "          if (!dataTable) return;\n",
              "\n",
              "          const docLinkHtml = 'Like what you see? Visit the ' +\n",
              "            '<a target=\"_blank\" href=https://colab.research.google.com/notebooks/data_table.ipynb>data table notebook</a>'\n",
              "            + ' to learn more about interactive tables.';\n",
              "          element.innerHTML = '';\n",
              "          dataTable['output_type'] = 'display_data';\n",
              "          await google.colab.output.renderOutput(dataTable, element);\n",
              "          const docLink = document.createElement('div');\n",
              "          docLink.innerHTML = docLinkHtml;\n",
              "          element.appendChild(docLink);\n",
              "        }\n",
              "      </script>\n",
              "    </div>\n",
              "  </div>\n",
              "  "
            ]
          },
          "metadata": {},
          "execution_count": 193
        }
      ],
      "source": [
        "cities_df.head(20)"
      ]
    },
    {
      "cell_type": "code",
      "source": [
        "cities_df.info()"
      ],
      "metadata": {
        "colab": {
          "base_uri": "https://localhost:8080/"
        },
        "id": "eZoYShyqdJAo",
        "outputId": "3a8c7abe-6e97-4155-9b0c-ea749dae631d"
      },
      "execution_count": 194,
      "outputs": [
        {
          "output_type": "stream",
          "name": "stdout",
          "text": [
            "<class 'pandas.core.frame.DataFrame'>\n",
            "RangeIndex: 10 entries, 0 to 9\n",
            "Data columns (total 5 columns):\n",
            " #   Column      Non-Null Count  Dtype \n",
            "---  ------      --------------  ----- \n",
            " 0   name        10 non-null     object\n",
            " 1   country     10 non-null     object\n",
            " 2   longitude   10 non-null     object\n",
            " 3   latitude    10 non-null     object\n",
            " 4   population  10 non-null     object\n",
            "dtypes: object(5)\n",
            "memory usage: 528.0+ bytes\n"
          ]
        }
      ]
    }
  ]
}